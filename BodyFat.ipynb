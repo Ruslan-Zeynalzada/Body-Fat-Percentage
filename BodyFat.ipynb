{
 "cells": [
  {
   "cell_type": "markdown",
   "id": "8e8a994d-4622-4a86-be6a-4f2a67017201",
   "metadata": {},
   "source": [
    "# Body Fat Percentage"
   ]
  },
  {
   "cell_type": "markdown",
   "id": "5c65cf7e-763b-448c-bd8f-f0af2e1303f1",
   "metadata": {},
   "source": [
    "<img src = \"bodyfat-visual-reference-men.gif\" width=\"800\">"
   ]
  },
  {
   "cell_type": "markdown",
   "id": "61a781a9-6125-4990-989c-ca227d5f4c2c",
   "metadata": {},
   "source": [
    "# Importing Libraries"
   ]
  },
  {
   "cell_type": "code",
   "execution_count": 1,
   "id": "68e2a839-6300-432e-8f4e-f67354f2f992",
   "metadata": {},
   "outputs": [],
   "source": [
    "import pandas as pd\n",
    "import numpy as np\n",
    "import matplotlib.pyplot as plt\n",
    "import seaborn as sns\n",
    "import plotly.express as px\n",
    "\n",
    "from sklearn.impute import SimpleImputer\n",
    "from sklearn.model_selection import train_test_split , cross_val_score , RepeatedKFold , GridSearchCV , RandomizedSearchCV\n",
    "from sklearn.preprocessing import RobustScaler , MinMaxScaler , StandardScaler , QuantileTransformer , PowerTransformer , OneHotEncoder\n",
    "from sklearn.linear_model import LinearRegression\n",
    "from sklearn.ensemble import AdaBoostRegressor\n",
    "from sklearn.feature_selection import SequentialFeatureSelector\n",
    "from sklearn.metrics import r2_score , mean_absolute_error , mean_squared_error , mean_absolute_percentage_error\n",
    "from sklearn.compose import make_column_transformer\n",
    "from sklearn.pipeline import make_pipeline\n",
    "from scipy.stats import shapiro , stats\n",
    "\n",
    "import warnings\n",
    "warnings.filterwarnings(action = \"ignore\")\n",
    "plt.rcParams[\"figure.figsize\"] = (12,8)\n",
    "pd.set_option(\"display.max_columns\" , None)"
   ]
  },
  {
   "cell_type": "markdown",
   "id": "ec4a8965-6f56-48d6-8b54-03feaaebc1f1",
   "metadata": {},
   "source": [
    "# Importing Dataset"
   ]
  },
  {
   "cell_type": "code",
   "execution_count": 2,
   "id": "ed329336-3496-41c2-9264-4dda12ca0283",
   "metadata": {},
   "outputs": [
    {
     "data": {
      "text/html": [
       "<div>\n",
       "<style scoped>\n",
       "    .dataframe tbody tr th:only-of-type {\n",
       "        vertical-align: middle;\n",
       "    }\n",
       "\n",
       "    .dataframe tbody tr th {\n",
       "        vertical-align: top;\n",
       "    }\n",
       "\n",
       "    .dataframe thead th {\n",
       "        text-align: right;\n",
       "    }\n",
       "</style>\n",
       "<table border=\"1\" class=\"dataframe\">\n",
       "  <thead>\n",
       "    <tr style=\"text-align: right;\">\n",
       "      <th></th>\n",
       "      <th>Density</th>\n",
       "      <th>BodyFat</th>\n",
       "      <th>Age</th>\n",
       "      <th>Weight</th>\n",
       "      <th>Height</th>\n",
       "      <th>Neck</th>\n",
       "      <th>Chest</th>\n",
       "      <th>Abdomen</th>\n",
       "      <th>Hip</th>\n",
       "      <th>Thigh</th>\n",
       "      <th>Knee</th>\n",
       "      <th>Ankle</th>\n",
       "      <th>Biceps</th>\n",
       "      <th>Forearm</th>\n",
       "      <th>Wrist</th>\n",
       "    </tr>\n",
       "  </thead>\n",
       "  <tbody>\n",
       "    <tr>\n",
       "      <th>0</th>\n",
       "      <td>1.0708</td>\n",
       "      <td>12.3</td>\n",
       "      <td>23</td>\n",
       "      <td>154.25</td>\n",
       "      <td>67.75</td>\n",
       "      <td>36.2</td>\n",
       "      <td>93.1</td>\n",
       "      <td>85.2</td>\n",
       "      <td>94.5</td>\n",
       "      <td>59.0</td>\n",
       "      <td>37.3</td>\n",
       "      <td>21.9</td>\n",
       "      <td>32.0</td>\n",
       "      <td>27.4</td>\n",
       "      <td>17.1</td>\n",
       "    </tr>\n",
       "    <tr>\n",
       "      <th>1</th>\n",
       "      <td>1.0853</td>\n",
       "      <td>6.1</td>\n",
       "      <td>22</td>\n",
       "      <td>173.25</td>\n",
       "      <td>72.25</td>\n",
       "      <td>38.5</td>\n",
       "      <td>93.6</td>\n",
       "      <td>83.0</td>\n",
       "      <td>98.7</td>\n",
       "      <td>58.7</td>\n",
       "      <td>37.3</td>\n",
       "      <td>23.4</td>\n",
       "      <td>30.5</td>\n",
       "      <td>28.9</td>\n",
       "      <td>18.2</td>\n",
       "    </tr>\n",
       "    <tr>\n",
       "      <th>2</th>\n",
       "      <td>1.0414</td>\n",
       "      <td>25.3</td>\n",
       "      <td>22</td>\n",
       "      <td>154.00</td>\n",
       "      <td>66.25</td>\n",
       "      <td>34.0</td>\n",
       "      <td>95.8</td>\n",
       "      <td>87.9</td>\n",
       "      <td>99.2</td>\n",
       "      <td>59.6</td>\n",
       "      <td>38.9</td>\n",
       "      <td>24.0</td>\n",
       "      <td>28.8</td>\n",
       "      <td>25.2</td>\n",
       "      <td>16.6</td>\n",
       "    </tr>\n",
       "    <tr>\n",
       "      <th>3</th>\n",
       "      <td>1.0751</td>\n",
       "      <td>10.4</td>\n",
       "      <td>26</td>\n",
       "      <td>184.75</td>\n",
       "      <td>72.25</td>\n",
       "      <td>37.4</td>\n",
       "      <td>101.8</td>\n",
       "      <td>86.4</td>\n",
       "      <td>101.2</td>\n",
       "      <td>60.1</td>\n",
       "      <td>37.3</td>\n",
       "      <td>22.8</td>\n",
       "      <td>32.4</td>\n",
       "      <td>29.4</td>\n",
       "      <td>18.2</td>\n",
       "    </tr>\n",
       "    <tr>\n",
       "      <th>4</th>\n",
       "      <td>1.0340</td>\n",
       "      <td>28.7</td>\n",
       "      <td>24</td>\n",
       "      <td>184.25</td>\n",
       "      <td>71.25</td>\n",
       "      <td>34.4</td>\n",
       "      <td>97.3</td>\n",
       "      <td>100.0</td>\n",
       "      <td>101.9</td>\n",
       "      <td>63.2</td>\n",
       "      <td>42.2</td>\n",
       "      <td>24.0</td>\n",
       "      <td>32.2</td>\n",
       "      <td>27.7</td>\n",
       "      <td>17.7</td>\n",
       "    </tr>\n",
       "  </tbody>\n",
       "</table>\n",
       "</div>"
      ],
      "text/plain": [
       "   Density  BodyFat  Age  Weight  Height  Neck  Chest  Abdomen    Hip  Thigh  \\\n",
       "0   1.0708     12.3   23  154.25   67.75  36.2   93.1     85.2   94.5   59.0   \n",
       "1   1.0853      6.1   22  173.25   72.25  38.5   93.6     83.0   98.7   58.7   \n",
       "2   1.0414     25.3   22  154.00   66.25  34.0   95.8     87.9   99.2   59.6   \n",
       "3   1.0751     10.4   26  184.75   72.25  37.4  101.8     86.4  101.2   60.1   \n",
       "4   1.0340     28.7   24  184.25   71.25  34.4   97.3    100.0  101.9   63.2   \n",
       "\n",
       "   Knee  Ankle  Biceps  Forearm  Wrist  \n",
       "0  37.3   21.9    32.0     27.4   17.1  \n",
       "1  37.3   23.4    30.5     28.9   18.2  \n",
       "2  38.9   24.0    28.8     25.2   16.6  \n",
       "3  37.3   22.8    32.4     29.4   18.2  \n",
       "4  42.2   24.0    32.2     27.7   17.7  "
      ]
     },
     "execution_count": 2,
     "metadata": {},
     "output_type": "execute_result"
    }
   ],
   "source": [
    "data = pd.read_csv(\"bodyfat.csv\")\n",
    "df = data.copy()\n",
    "df.head()"
   ]
  },
  {
   "cell_type": "markdown",
   "id": "8faf7a29-66e3-4326-93a9-0cdfdbdfdb34",
   "metadata": {},
   "source": [
    "# Variables' Description\n",
    "* Density determined from underwater weighing\n",
    "* Percent body fat from Siri's (1956) equation\n",
    "* Age (years)\n",
    "* Weight (lbs)\n",
    "* Height (inches)\n",
    "* Neck circumference (cm)\n",
    "* Chest circumference (cm)\n",
    "* Abdomen 2 circumference (cm)\n",
    "* Hip circumference (cm)\n",
    "* Thigh circumference (cm)\n",
    "* Knee circumference (cm)\n",
    "* Ankle circumference (cm)\n",
    "* Biceps (extended) circumference (cm)\n",
    "* Forearm circumference (cm)\n",
    "* Wrist circumference (cm)"
   ]
  },
  {
   "cell_type": "markdown",
   "id": "64e375b0-67af-4f5a-bf32-03e66c69828d",
   "metadata": {},
   "source": [
    "# Checking if there are null values in the dataset or not"
   ]
  },
  {
   "cell_type": "code",
   "execution_count": 3,
   "id": "3113e1ea-6b4e-45e7-ade8-b69ef361eb4d",
   "metadata": {},
   "outputs": [
    {
     "data": {
      "text/plain": [
       "Density    0\n",
       "BodyFat    0\n",
       "Age        0\n",
       "Weight     0\n",
       "Height     0\n",
       "Neck       0\n",
       "Chest      0\n",
       "Abdomen    0\n",
       "Hip        0\n",
       "Thigh      0\n",
       "Knee       0\n",
       "Ankle      0\n",
       "Biceps     0\n",
       "Forearm    0\n",
       "Wrist      0\n",
       "dtype: int64"
      ]
     },
     "execution_count": 3,
     "metadata": {},
     "output_type": "execute_result"
    }
   ],
   "source": [
    "df.isnull().sum()"
   ]
  },
  {
   "cell_type": "code",
   "execution_count": 4,
   "id": "d874d9de-3dde-4718-9f04-f9e6615f21aa",
   "metadata": {},
   "outputs": [
    {
     "data": {
      "image/png": "[encoded data removed]",
      "text/plain": [
       "<Figure size 864x576 with 1 Axes>"
      ]
     },
     "metadata": {
      "needs_background": "light"
     },
     "output_type": "display_data"
    }
   ],
   "source": [
    "sns.heatmap(data = df.isnull() , cmap = \"rainbow\" , cbar = False , yticklabels=False)\n",
    "plt.title(\"The Visualization for Null values\")\n",
    "plt.show()"
   ]
  },
  {
   "cell_type": "markdown",
   "id": "89576a17-42a1-4bcb-9d8b-198fc4bc5ae8",
   "metadata": {},
   "source": [
    "# Checking if there is duplicated values in the dataset"
   ]
  },
  {
   "cell_type": "code",
   "execution_count": 5,
   "id": "f1bee6f1-a6e3-4dbf-94eb-5b92a67dc579",
   "metadata": {},
   "outputs": [
    {
     "name": "stdout",
     "output_type": "stream",
     "text": [
      "There are 0 duplicates in the dataset\n"
     ]
    }
   ],
   "source": [
    "print(\"There are {} duplicates in the dataset\".format(df.duplicated().sum()))"
   ]
  },
  {
   "cell_type": "markdown",
   "id": "32d5b3ea-5b02-45c2-86f0-683e4d1b7bd2",
   "metadata": {},
   "source": [
    "# Checking outliers with the help of the boxplot"
   ]
  },
  {
   "cell_type": "code",
   "execution_count": 6,
   "id": "d93360d3-df5e-46d4-a6e4-6fe6779c155b",
   "metadata": {},
   "outputs": [
    {
     "data": {
      "image/png": "[encoded data removed]",
      "text/plain": [
       "<Figure size 864x576 with 1 Axes>"
      ]
     },
     "metadata": {
      "needs_background": "light"
     },
     "output_type": "display_data"
    }
   ],
   "source": [
    "sns.boxplot(data = df)\n",
    "plt.title(\"The Boxplot for outliers\" , fontsize = 16)\n",
    "plt.show()\n",
    "\n",
    "# There are aoutliers in the dataset so I will apply Robustscaler"
   ]
  },
  {
   "cell_type": "markdown",
   "id": "78adf91b-3519-4216-9753-2172a6e0d187",
   "metadata": {},
   "source": [
    "# Splitting the dataset to X and y"
   ]
  },
  {
   "cell_type": "code",
   "execution_count": 7,
   "id": "606f9655-b28a-4803-9200-0c2df5ac0b6d",
   "metadata": {},
   "outputs": [],
   "source": [
    "X = df.drop(columns = [\"BodyFat\"])\n",
    "y = df[\"BodyFat\"]"
   ]
  },
  {
   "cell_type": "markdown",
   "id": "b774e500-18dc-4810-a085-caa3ba0f6ddf",
   "metadata": {},
   "source": [
    "# Splitting the dataset to train and test "
   ]
  },
  {
   "cell_type": "code",
   "execution_count": 8,
   "id": "09ae1c11-e78c-4388-b023-fb71dfd0a85d",
   "metadata": {},
   "outputs": [],
   "source": [
    "X_train , X_test , y_train , y_test = train_test_split(X , y , test_size=0.2 , random_state=42)"
   ]
  },
  {
   "cell_type": "markdown",
   "id": "b274afef-1166-4093-95f0-c57c6254dd4a",
   "metadata": {},
   "source": [
    "# Automate score, metrics, cross validation with the help of the functions"
   ]
  },
  {
   "cell_type": "code",
   "execution_count": 9,
   "id": "0070ea55-811d-41e7-81bf-a1493789af8d",
   "metadata": {},
   "outputs": [],
   "source": [
    "def score_func(model_name) : \n",
    "    train_score = model_name.score(X_train , y_train)\n",
    "    test_score = model_name.score(X_test , y_test)\n",
    "    \n",
    "    print(\"The train score is {:.2%}\".format(train_score))\n",
    "    print(\"The test score is {:.2%}\".format(test_score))"
   ]
  },
  {
   "cell_type": "code",
   "execution_count": 10,
   "id": "7ee820bd-771d-468b-8d6d-76f324a36e11",
   "metadata": {},
   "outputs": [],
   "source": [
    "def metrics_func(model_name) : \n",
    "    y_pred = model_name.predict(X_test)\n",
    "    r2 =r2_score(y_test , y_pred)\n",
    "    mean_abs = mean_absolute_error(y_test , y_pred)\n",
    "    mean_sqr = mean_squared_error(y_test , y_pred)\n",
    "    mean_abs_pr = mean_absolute_percentage_error(y_test , y_pred)\n",
    "    \n",
    "    print(\"The r2 score is {:.2%}\".format(r2))\n",
    "    print(\"The mean absolute erros is {:.2f}\".format(mean_abs))\n",
    "    print(\"The mean squared error is {:.2f}\".format(mean_sqr))\n",
    "    print(\"THe mean absolute percentage error is {:.2f}\".format(mean_abs_pr))"
   ]
  },
  {
   "cell_type": "code",
   "execution_count": 11,
   "id": "30b3c320-a6c2-47e7-8b1d-d3277051b5ee",
   "metadata": {},
   "outputs": [],
   "source": [
    "def adjust_rsquared(model_name) : \n",
    "    N = X.shape[0]\n",
    "    p = X.shape[1]/2\n",
    "    y_pred = model_name.predict(X_test)\n",
    "    r2 = r2_score(y_test , y_pred)\n",
    "    first = (1-r2)*(N-1)\n",
    "    second = N-p-1\n",
    "    result = 1-(first/second)\n",
    "    return np.round(result,2)"
   ]
  },
  {
   "cell_type": "code",
   "execution_count": 12,
   "id": "679c7e90-d50e-49e8-a137-269d30afa777",
   "metadata": {},
   "outputs": [],
   "source": [
    "def cross_func(model_name) : \n",
    "    cr = cross_val_score(estimator=model_name , X = X_train , y = y_train , scoring=\"r2\" , cv = 10 , n_jobs=-1)\n",
    "    max_power = np.argmax(cr)\n",
    "    min_power = np.argmin(cr)\n",
    "    mean_power = np.mean(cr)\n",
    "    std = np.std(cr)\n",
    "    \n",
    "    print(\"The maxiumum score for this model can be {:.2%}\".format(cr[max_power]))\n",
    "    print(\"The minumum score for this model can be {:.2%}\".format(cr[min_power]))\n",
    "    print(\"The average cross validation is {:.2%}\".format(mean_power))\n",
    "    print(\"The standart devidation of the cross validation is {}\".format(std))"
   ]
  },
  {
   "cell_type": "markdown",
   "id": "0ccb4fc0-e35a-46b5-b1db-cbcae01e069b",
   "metadata": {},
   "source": [
    "# Creating pipeline for Linear Regression"
   ]
  },
  {
   "cell_type": "code",
   "execution_count": 13,
   "id": "314a2acb-ca09-412f-b25c-98b2173b6be1",
   "metadata": {},
   "outputs": [
    {
     "data": {
      "text/plain": [
       "Pipeline(steps=[('robustscaler', RobustScaler()),\n",
       "                ('sequentialfeatureselector',\n",
       "                 SequentialFeatureSelector(cv=RepeatedKFold(n_repeats=10, n_splits=5, random_state=42),\n",
       "                                           estimator=LinearRegression(),\n",
       "                                           n_jobs=-1, scoring='r2')),\n",
       "                ('linearregression', LinearRegression())])"
      ]
     },
     "execution_count": 13,
     "metadata": {},
     "output_type": "execute_result"
    }
   ],
   "source": [
    "model_linear = make_pipeline(RobustScaler() , SequentialFeatureSelector(estimator=LinearRegression() , \n",
    "                                                                        cv = RepeatedKFold(random_state=42) , scoring=\"r2\" , n_jobs=-1) , \n",
    "                             LinearRegression())\n",
    "model_linear.fit(X_train , y_train)"
   ]
  },
  {
   "cell_type": "markdown",
   "id": "36d77739-def1-4460-98ee-81f7d2931a73",
   "metadata": {},
   "source": [
    "# Tunining scaling methods for choosing the best one"
   ]
  },
  {
   "cell_type": "code",
   "execution_count": 14,
   "id": "b693c368-2bdc-4248-b13f-20442073f4a7",
   "metadata": {},
   "outputs": [],
   "source": [
    "parametrs = {\"robustscaler\" : [MinMaxScaler() , StandardScaler() , MinMaxScaler() , PowerTransformer() , QuantileTransformer()]}"
   ]
  },
  {
   "cell_type": "code",
   "execution_count": 15,
   "id": "77d0301a-55a1-4ba8-a11e-be1f7a91e40e",
   "metadata": {},
   "outputs": [
    {
     "name": "stdout",
     "output_type": "stream",
     "text": [
      "Fitting 50 folds for each of 5 candidates, totalling 250 fits\n"
     ]
    },
    {
     "data": {
      "text/plain": [
       "GridSearchCV(cv=RepeatedKFold(n_repeats=10, n_splits=5, random_state=42),\n",
       "             estimator=Pipeline(steps=[('robustscaler', RobustScaler()),\n",
       "                                       ('sequentialfeatureselector',\n",
       "                                        SequentialFeatureSelector(cv=RepeatedKFold(n_repeats=10, n_splits=5, random_state=42),\n",
       "                                                                  estimator=LinearRegression(),\n",
       "                                                                  n_jobs=-1,\n",
       "                                                                  scoring='r2')),\n",
       "                                       ('linearregression',\n",
       "                                        LinearRegression())]),\n",
       "             n_jobs=-1,\n",
       "             param_grid={'robustscaler': [MinMaxScaler(), StandardScaler(),\n",
       "                                          MinMaxScaler(), PowerTransformer(),\n",
       "                                          QuantileTransformer()]},\n",
       "             scoring='r2', verbose=1)"
      ]
     },
     "execution_count": 15,
     "metadata": {},
     "output_type": "execute_result"
    }
   ],
   "source": [
    "model_linear_tuned = GridSearchCV(estimator=model_linear , param_grid=parametrs , scoring=\"r2\" , n_jobs=-1 , cv = RepeatedKFold(random_state = 42) , verbose=1)\n",
    "model_linear_tuned.fit(X_train , y_train)"
   ]
  },
  {
   "cell_type": "markdown",
   "id": "b80463ae-571b-4933-8c11-477a01639a03",
   "metadata": {},
   "source": [
    "# Train and Test scores for Linear Regression"
   ]
  },
  {
   "cell_type": "code",
   "execution_count": 16,
   "id": "1e4bb7b2-5ea4-49e0-9eee-5e58be7be14d",
   "metadata": {},
   "outputs": [
    {
     "name": "stdout",
     "output_type": "stream",
     "text": [
      "The train score is 97.39%\n",
      "The test score is 99.52%\n"
     ]
    }
   ],
   "source": [
    "score_func(model_name=model_linear_tuned)"
   ]
  },
  {
   "cell_type": "markdown",
   "id": "e21baa44-6ba8-4a77-beb2-bcebcb38ce4f",
   "metadata": {},
   "source": [
    "# Metrics for Linear Regression"
   ]
  },
  {
   "cell_type": "code",
   "execution_count": 17,
   "id": "b5332d0a-2a70-4297-abfb-b1aeee55dbdb",
   "metadata": {},
   "outputs": [
    {
     "name": "stdout",
     "output_type": "stream",
     "text": [
      "The r2 score is 99.52%\n",
      "The mean absolute erros is 0.40\n",
      "The mean squared error is 0.22\n",
      "THe mean absolute percentage error is 0.03\n"
     ]
    }
   ],
   "source": [
    "metrics_func(model_name = model_linear_tuned)"
   ]
  },
  {
   "cell_type": "markdown",
   "id": "e579adf7-838e-4927-8f1a-77280f930f24",
   "metadata": {},
   "source": [
    "# Adjusted r squared for Linear Regression"
   ]
  },
  {
   "cell_type": "code",
   "execution_count": 18,
   "id": "bf312e5b-4935-4623-9d4f-775bb35399b2",
   "metadata": {},
   "outputs": [
    {
     "data": {
      "text/plain": [
       "1.0"
      ]
     },
     "execution_count": 18,
     "metadata": {},
     "output_type": "execute_result"
    }
   ],
   "source": [
    "adjust_rsquared(model_name=model_linear_tuned)"
   ]
  },
  {
   "cell_type": "markdown",
   "id": "706f6b75-03ed-45d9-923b-6c615cdacb3b",
   "metadata": {},
   "source": [
    "# Cross Validation for Linear Regression"
   ]
  },
  {
   "cell_type": "code",
   "execution_count": 19,
   "id": "a08d9d62-9b88-4eba-bdd2-3479158e4155",
   "metadata": {},
   "outputs": [
    {
     "name": "stdout",
     "output_type": "stream",
     "text": [
      "The maxiumum score for this model can be 99.85%\n",
      "The minumum score for this model can be 81.58%\n",
      "The average cross validation is 95.60%\n",
      "The standart devidation of the cross validation is 0.0635325104240743\n"
     ]
    }
   ],
   "source": [
    "cross_func(model_name=model_linear_tuned)"
   ]
  },
  {
   "cell_type": "markdown",
   "id": "d023c441-fa93-4310-9680-66677284049c",
   "metadata": {},
   "source": [
    "# Adaboost"
   ]
  },
  {
   "cell_type": "code",
   "execution_count": 20,
   "id": "9b600b20-ae45-4227-8c03-98f3512d2bc2",
   "metadata": {},
   "outputs": [
    {
     "data": {
      "text/plain": [
       "Pipeline(steps=[('sequentialfeatureselector',\n",
       "                 SequentialFeatureSelector(cv=RepeatedKFold(n_repeats=10, n_splits=5, random_state=42),\n",
       "                                           estimator=AdaBoostRegressor(),\n",
       "                                           n_jobs=-1, scoring='r2')),\n",
       "                ('adaboostregressor', AdaBoostRegressor())])"
      ]
     },
     "execution_count": 20,
     "metadata": {},
     "output_type": "execute_result"
    }
   ],
   "source": [
    "model_ada = make_pipeline(SequentialFeatureSelector(estimator=AdaBoostRegressor() , scoring=\"r2\" , \n",
    "                    cv = RepeatedKFold(random_state=42) , n_jobs=-1) , AdaBoostRegressor())\n",
    "model_ada"
   ]
  },
  {
   "cell_type": "markdown",
   "id": "d8e16552-46ab-414a-a60e-10216eaec6e4",
   "metadata": {},
   "source": [
    "# Hyperparametr tuning for Adaboost"
   ]
  },
  {
   "cell_type": "code",
   "execution_count": 22,
   "id": "7a889460-187c-4418-bc10-964867d2f142",
   "metadata": {},
   "outputs": [],
   "source": [
    "from xgboost import XGBRegressor\n",
    "base_model = XGBRegressor()\n",
    "parametrs = {\"adaboostregressor__n_estimators\" : [30,50,70,100,150,200] , \"adaboostregressor__learning_rate\" : [0.01,0.1,1],\n",
    "            \"adaboostregressor__loss\" : [\"linear\" , \"square\" , \"exponential\"] , \"adaboostregressor__base_estimator\" : [base_model]} "
   ]
  },
  {
   "cell_type": "code",
   "execution_count": 23,
   "id": "56a8f408-6fac-41ea-8c74-c22ca85103e2",
   "metadata": {},
   "outputs": [
    {
     "name": "stdout",
     "output_type": "stream",
     "text": [
      "Fitting 10 folds for each of 10 candidates, totalling 100 fits\n"
     ]
    },
    {
     "data": {
      "text/plain": [
       "RandomizedSearchCV(cv=10,\n",
       "                   estimator=Pipeline(steps=[('sequentialfeatureselector',\n",
       "                                              SequentialFeatureSelector(cv=RepeatedKFold(n_repeats=10, n_splits=5, random_state=42),\n",
       "                                                                        estimator=AdaBoostRegressor(),\n",
       "                                                                        n_jobs=-1,\n",
       "                                                                        scoring='r2')),\n",
       "                                             ('adaboostregressor',\n",
       "                                              AdaBoostRegressor())]),\n",
       "                   n_jobs=-1,\n",
       "                   param_distributions={'adaboostregressor__base_estimator': [XGBRegressor(base_s...\n",
       "                                                                                           num_parallel_tree=None,\n",
       "                                                                                           predictor=None,\n",
       "                                                                                           random_state=None,\n",
       "                                                                                           reg_alpha=None,\n",
       "                                                                                           reg_lambda=None,\n",
       "                                                                                           scale_pos_weight=None,\n",
       "                                                                                           subsample=None,\n",
       "                                                                                           tree_method=None,\n",
       "                                                                                           validate_parameters=None,\n",
       "                                                                                           verbosity=None)],\n",
       "                                        'adaboostregressor__learning_rate': [0.01,\n",
       "                                                                             0.1,\n",
       "                                                                             1],\n",
       "                                        'adaboostregressor__loss': ['linear',\n",
       "                                                                    'square',\n",
       "                                                                    'exponential'],\n",
       "                                        'adaboostregressor__n_estimators': [30,\n",
       "                                                                            50,\n",
       "                                                                            70,\n",
       "                                                                            100,\n",
       "                                                                            150,\n",
       "                                                                            200]},\n",
       "                   scoring='r2', verbose=1)"
      ]
     },
     "execution_count": 23,
     "metadata": {},
     "output_type": "execute_result"
    }
   ],
   "source": [
    "model_ada_tuned = RandomizedSearchCV(estimator=model_ada , param_distributions=parametrs , scoring=\"r2\" , cv = 10 , verbose=1 , n_jobs=-1)\n",
    "model_ada_tuned.fit(X_train , y_train)"
   ]
  },
  {
   "cell_type": "markdown",
   "id": "5f34f21d-7b94-4911-8bd3-12aaa598cb5d",
   "metadata": {},
   "source": [
    "# Choosen parametrs"
   ]
  },
  {
   "cell_type": "code",
   "execution_count": 24,
   "id": "c7d355ee-d512-4c3b-a404-cb2d5e7f3fb0",
   "metadata": {},
   "outputs": [
    {
     "data": {
      "text/plain": [
       "{'adaboostregressor__n_estimators': 50,\n",
       " 'adaboostregressor__loss': 'square',\n",
       " 'adaboostregressor__learning_rate': 1,\n",
       " 'adaboostregressor__base_estimator': XGBRegressor(base_score=None, booster=None, colsample_bylevel=None,\n",
       "              colsample_bynode=None, colsample_bytree=None,\n",
       "              enable_categorical=False, gamma=None, gpu_id=None,\n",
       "              importance_type=None, interaction_constraints=None,\n",
       "              learning_rate=None, max_delta_step=None, max_depth=None,\n",
       "              min_child_weight=None, missing=nan, monotone_constraints=None,\n",
       "              n_estimators=100, n_jobs=None, num_parallel_tree=None,\n",
       "              predictor=None, random_state=None, reg_alpha=None, reg_lambda=None,\n",
       "              scale_pos_weight=None, subsample=None, tree_method=None,\n",
       "              validate_parameters=None, verbosity=None)}"
      ]
     },
     "execution_count": 24,
     "metadata": {},
     "output_type": "execute_result"
    }
   ],
   "source": [
    "model_ada_tuned.best_params_"
   ]
  },
  {
   "cell_type": "markdown",
   "id": "42dae4d1-62f9-4ba4-9158-9284cfd811e9",
   "metadata": {},
   "source": [
    "# Train and Test scores for Adaboost"
   ]
  },
  {
   "cell_type": "code",
   "execution_count": 25,
   "id": "89426edd-fb5c-435f-be1f-cc5871f056de",
   "metadata": {},
   "outputs": [
    {
     "name": "stdout",
     "output_type": "stream",
     "text": [
      "The train score is 99.92%\n",
      "The test score is 98.88%\n"
     ]
    }
   ],
   "source": [
    "score_func(model_name=model_ada_tuned)"
   ]
  },
  {
   "cell_type": "markdown",
   "id": "3ba3bfdf-565b-47e9-9665-2b26346da118",
   "metadata": {},
   "source": [
    "# Metrics for Adaboost "
   ]
  },
  {
   "cell_type": "code",
   "execution_count": 26,
   "id": "188606c1-92b0-43d1-ac1d-e8a7b3d7f3c9",
   "metadata": {},
   "outputs": [
    {
     "name": "stdout",
     "output_type": "stream",
     "text": [
      "The r2 score is 98.88%\n",
      "The mean absolute erros is 0.52\n",
      "The mean squared error is 0.52\n",
      "THe mean absolute percentage error is 0.03\n"
     ]
    }
   ],
   "source": [
    "metrics_func(model_name=model_ada_tuned)"
   ]
  },
  {
   "cell_type": "markdown",
   "id": "6fc997bd-2808-4467-856c-f93f3f2d1818",
   "metadata": {},
   "source": [
    "# Adjusted r squared for Linear Regression"
   ]
  },
  {
   "cell_type": "code",
   "execution_count": 27,
   "id": "d0d99742-5c5c-44e8-b0c4-c46c98442e07",
   "metadata": {},
   "outputs": [
    {
     "data": {
      "text/plain": [
       "0.99"
      ]
     },
     "execution_count": 27,
     "metadata": {},
     "output_type": "execute_result"
    }
   ],
   "source": [
    "adjust_rsquared(model_name=model_ada_tuned)"
   ]
  },
  {
   "cell_type": "markdown",
   "id": "692c869d-755e-400e-9cc1-949ff60be922",
   "metadata": {},
   "source": [
    "# Cross Validation for Linear Regression"
   ]
  },
  {
   "cell_type": "code",
   "execution_count": 28,
   "id": "9673463d-9ffd-4188-907b-82180c386f6b",
   "metadata": {},
   "outputs": [
    {
     "name": "stdout",
     "output_type": "stream",
     "text": [
      "The maxiumum score for this model can be 99.88%\n",
      "The minumum score for this model can be 83.53%\n",
      "The average cross validation is 95.83%\n",
      "The standart devidation of the cross validation is 0.051046239534477775\n"
     ]
    }
   ],
   "source": [
    "cross_func(model_name=model_ada_tuned)"
   ]
  },
  {
   "cell_type": "markdown",
   "id": "1fd310ff-9eca-4ad2-9447-f15208d4e862",
   "metadata": {},
   "source": [
    "# Saving our model with pickle"
   ]
  },
  {
   "cell_type": "code",
   "execution_count": 29,
   "id": "bdd57722-32ea-4d77-9493-762166a37186",
   "metadata": {},
   "outputs": [],
   "source": [
    "import pickle\n",
    "filename = \"BodyFat\"\n",
    "pickle.dump(model_ada_tuned , open(filename , \"wb\"))"
   ]
  },
  {
   "cell_type": "markdown",
   "id": "43a78e9d-0dcf-4140-adbf-6ee61e827085",
   "metadata": {},
   "source": [
    "# Visualizing the distributions of the variables"
   ]
  },
  {
   "cell_type": "code",
   "execution_count": 34,
   "id": "c0783114-f663-47e1-ac8e-f0f5d67dada4",
   "metadata": {},
   "outputs": [
    {
     "data": {
      "image/png": "[encoded data removed]",
      "text/plain": [
       "<Figure size 864x576 with 4 Axes>"
      ]
     },
     "metadata": {
      "needs_background": "light"
     },
     "output_type": "display_data"
    }
   ],
   "source": [
    "plt.subplot(2,2,1)\n",
    "sns.histplot(data = df[\"BodyFat\"] , kde = True , color=\"magenta\")\n",
    "plt.title(\"The BodyFat column's distribution\" , fontsize = 12)\n",
    "plt.grid()\n",
    "plt.subplot(2,2,2)\n",
    "sns.histplot(data = df[\"Weight\"] , kde = True , color = \"green\")\n",
    "plt.title(\"The Weight column's distribution\" , fontsize = 12)\n",
    "plt.grid()\n",
    "plt.subplot(2,2,3)\n",
    "sns.histplot(data = df[\"Height\"] , kde = True , color = \"red\")\n",
    "plt.grid()\n",
    "plt.subplot(2,2,4)\n",
    "sns.histplot(data = df[\"Chest\"] , kde = True , color = \"blue\")\n",
    "plt.grid()"
   ]
  },
  {
   "cell_type": "markdown",
   "id": "085bd069-a722-40c4-8ec2-752f9e53b5bf",
   "metadata": {},
   "source": [
    "# Visualizing the correlations"
   ]
  },
  {
   "cell_type": "code",
   "execution_count": 36,
   "id": "a0ffd161-7583-428f-bf50-4cc7e02745e6",
   "metadata": {},
   "outputs": [
    {
     "data": {
      "image/png": "[encoded data removed]",
      "text/plain": [
       "<Figure size 864x576 with 4 Axes>"
      ]
     },
     "metadata": {
      "needs_background": "light"
     },
     "output_type": "display_data"
    }
   ],
   "source": [
    "plt.subplot(2,2,1)\n",
    "sns.scatterplot(data = df , x = \"BodyFat\" , y = \"Weight\")\n",
    "plt.title(\"The correlation between the BodyFat and Weight columns\" , fontsize = 12)\n",
    "plt.grid()\n",
    "plt.subplot(2,2,2)\n",
    "sns.scatterplot(data = df , x = \"BodyFat\" , y = \"Age\")\n",
    "plt.title(\"The correlation between the Bodyfat and Age columns\" , fontsize = 12)\n",
    "plt.grid()\n",
    "plt.subplot(2,2,3)\n",
    "sns.scatterplot(data = df , x = \"BodyFat\",  y = \"Height\")\n",
    "plt.grid()\n",
    "plt.subplot(2,2,4)\n",
    "sns.scatterplot(data = df , x = \"BodyFat\" , y = \"Chest\")\n",
    "plt.grid()"
   ]
  }
 ],
 "metadata": {
  "kernelspec": {
   "display_name": "Python 3 (ipykernel)",
   "language": "python",
   "name": "python3"
  },
  "language_info": {
   "codemirror_mode": {
    "name": "ipython",
    "version": 3
   },
   "file_extension": ".py",
   "mimetype": "text/x-python",
   "name": "python",
   "nbconvert_exporter": "python",
   "pygments_lexer": "ipython3",
   "version": "3.9.7"
  }
 },
 "nbformat": 4,
 "nbformat_minor": 5
}
